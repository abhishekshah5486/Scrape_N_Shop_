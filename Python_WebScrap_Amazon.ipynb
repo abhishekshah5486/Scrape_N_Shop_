{
 "cells": [
  {
   "cell_type": "code",
   "execution_count": 1,
   "id": "8ec4b6df",
   "metadata": {},
   "outputs": [],
   "source": [
    "# Importing the required modules/libraries\n",
    "\n",
    "import requests\n",
    "from bs4 import BeautifulSoup\n",
    "import pandas as pd\n",
    "import numpy as np\n",
    "\n",
    "import random"
   ]
  },
  {
   "cell_type": "code",
   "execution_count": 2,
   "id": "71c56508",
   "metadata": {
    "scrolled": false
   },
   "outputs": [
    {
     "name": "stdout",
     "output_type": "stream",
     "text": [
      "Enter the url of the amazon webpage !\n",
      "https://www.amazon.in/s?k=trousers+for+men&crid=216SOK3D4IQQS&sprefix=tro%2Caps%2C270&ref=nb_sb_ss_ts-doa-p_4_3\n"
     ]
    }
   ],
   "source": [
    "# Taking input from the user\n",
    "\n",
    "print(\"Enter the url of the amazon webpage !\")\n",
    "URL = input()"
   ]
  },
  {
   "cell_type": "code",
   "execution_count": 3,
   "id": "0050fecc",
   "metadata": {},
   "outputs": [],
   "source": [
    "# List of User Agents\n",
    "\n",
    "user_agents_list = ['Mozilla/5.0 (Macintosh; Intel Mac OS X 10_15_7) AppleWebKit/605.1.15 (KHTML, like Gecko) Version/17.0 Safari/605.1.15',\n",
    "                    \"Mozilla/5.0 (Windows NT 10.0; Win64; x64) AppleWebKit/537.36 (KHTML, like Gecko) Firefox/77.0.1\",\n",
    "                    \"Mozilla/5.0 (Macintosh; Intel Mac OS X 10_15_6) AppleWebKit/605.1.15 (KHTML, like Gecko) Version/14.0.1 Safari/605.1.15\",\n",
    "                    \"Mozilla/5.0 (Windows NT 10.0; Win64; x64) AppleWebKit/537.36 (KHTML, like Gecko) Opera/73.0.3856.344\",\n",
    "                    \"Mozilla/5.0 (Windows NT 10.0; Win64; x64) AppleWebKit/537.36 (KHTML, like Gecko) Brave/1.23.75 Chrome/89.0.4389.90\",\n",
    "                    \"Mozilla/5.0 (Windows NT 10.0; Win64; x64) AppleWebKit/537.36 (KHTML, like Gecko) Vivaldi/3.8.2259.42\",\n",
    "                    \"Mozilla/5.0 (Windows NT 10.0; Win64; x64) AppleWebKit/537.36 (KHTML, like Gecko) Safari/537.36\",\n",
    "                    \"Mozilla/5.0 (Windows NT 10.0; Win64; x64) AppleWebKit/537.36 (KHTML, like Gecko) Maxthon/6.1.3.1000\",\n",
    "                    \"Mozilla/5.0 (Windows NT 10.0; Win64; x64) AppleWebKit/537.36 (KHTML, like Gecko) Avast/98.8.3863.87\",\n",
    "                    \"Mozilla/5.0 (Windows NT 6.1; Win64; x64) AppleWebKit/537.36 (KHTML, like Gecko) Chrome/58.0.3029.110 Safari/537.36\",\n",
    "                    \"Mozilla/5.0 (Windows NT 6.1; Win64; x64) AppleWebKit/537.36 (KHTML, like Gecko) Firefox/77.0.1\",\n",
    "                    \"Mozilla/5.0 (Macintosh; Intel Mac OS X 10_14_6) AppleWebKit/605.1.15 (KHTML, like Gecko) Version/14.0.1 Safari/605.1.15\",\n",
    "                    \"Mozilla/5.0 (Windows NT 6.1; Win64; x64) AppleWebKit/537.36 (KHTML, like Gecko) Edge/88.0.705.81\",\n",
    "                    \"Mozilla/5.0 (Windows NT 6.1; Win64; x64) AppleWebKit/537.36 (KHTML, like Gecko) Opera/73.0.3856.344\",\n",
    "                    \"Mozilla/5.0 (Windows NT 6.1; Win64; x64) AppleWebKit/537.36 (KHTML, like Gecko) Brave/1.23.75 Chrome/89.0.4389.90\",\n",
    "                    \"Mozilla/5.0 (Windows NT 6.1; Win64; x64) AppleWebKit/537.36 (KHTML, like Gecko) Vivaldi/3.8.2259.42\",\n",
    "                    \"Mozilla/5.0 (Windows NT 6.1; Win64; x64) AppleWebKit/537.36 (KHTML, like Gecko) Safari/537.36\",\n",
    "                    \"Mozilla/5.0 (Windows NT 6.1; Win64; x64) AppleWebKit/537.36 (KHTML, like Gecko) Maxthon/6.1.3.1000\",\n",
    "                    \"Mozilla/5.0 (Windows NT 6.1; Win64; x64) AppleWebKit/537.36 (KHTML, like Gecko) Avast/98.8.3863.87\",\n",
    "                    \"Mozilla/5.0 (X11; Linux x86_64) AppleWebKit/537.36 (KHTML, like Gecko) Chrome/58.0.3029.110 Safari/537.36\",\n",
    "                    \"Mozilla/5.0 (X11; Linux x86_64) AppleWebKit/537.36 (KHTML, like Gecko) Firefox/77.0.1\",\n",
    "                    \"Mozilla/5.0 (X11; Linux x86_64) AppleWebKit/605.1.15 (KHTML, like Gecko) Version/14.0.1 Safari/605.1.15\",\n",
    "                    \"Mozilla/5.0 (X11; Linux x86_64) AppleWebKit/537.36 (KHTML, like Gecko) Opera/73.0.3856.344\",\n",
    "                    \"Mozilla/5.0 (X11; Linux x86_64) AppleWebKit/537.36 (KHTML, like Gecko) Brave/1.23.75 Chrome/89.0.4389.90\",\n",
    "                    \"Mozilla/5.0 (X11; Linux x86_64) AppleWebKit/537.36 (KHTML, like Gecko) Vivaldi/3.8.2259.42\",\n",
    "                    \"Mozilla/5.0 (Macintosh; Intel Mac OS X 10_15_6) AppleWebKit/537.36 (KHTML, like Gecko) Chrome/58.0.3029.110 Safari/537.36\",\n",
    "                    \"Mozilla/5.0 (Macintosh; Intel Mac OS X 10_15_6) AppleWebKit/537.36 (KHTML, like Gecko) Firefox/77.0.1\",\n",
    "                    \"Mozilla/5.0 (Macintosh; Intel Mac OS X 10_15_6) AppleWebKit/537.36 (KHTML, like Gecko) Edge/88.0.705.81\",\n",
    "                    \"Mozilla/5.0 (Macintosh; Intel Mac OS X 10_15_6) AppleWebKit/537.36 (KHTML, like Gecko) Opera/73.0.3856.344\",\n",
    "                    \"Mozilla/5.0 (Macintosh; Intel Mac OS X 10_15_6) AppleWebKit/537.36 (KHTML, like Gecko) Brave/1.23.75 Chrome/89.0.4389.90\",\n",
    "                    \"Mozilla/5.0 (Macintosh; Intel Mac OS X 10_15_6) AppleWebKit/537.36 (KHTML, like Gecko) Vivaldi/3.8.2259.42\",\n",
    "                    \"Mozilla/5.0 (Macintosh; Intel Mac OS X 10_15_6) AppleWebKit/537.36 (KHTML, like Gecko) Safari/537.36\",\n",
    "                    \"Mozilla/5.0 (Macintosh; Intel Mac OS X 10_15_6) AppleWebKit/537.36 (KHTML, like Gecko) Firefox/88.0.1\",\n",
    "                    'Mozilla/5.0 (Macintosh; Intel Mac OS X 10_15_7) AppleWebKit/605.1.15 (KHTML, like Gecko) Version/17.0 Safari/605.1.15',\n",
    "                    'Mozilla/5.0 (Macintosh; Intel Mac OS X 10_15_6) AppleWebKit/605.1.15 (KHTML, like Gecko) Version/13.1.2 Safari/605.1.15',\n",
    "                    'Mozilla/5.0 (Macintosh; Intel Mac OS X 10_14_6) AppleWebKit/605.1.15 (KHTML, like Gecko) Version/12.1.1 Safari/605.1.15',\n",
    "                    'Mozilla/5.0 (Macintosh; Intel Mac OS X 10_12_6) AppleWebKit/602.4.8 (KHTML, like Gecko) Version/10.1.2 Safari/602.4.8',\n",
    "                    'Mozilla/5.0 (Macintosh; Intel Mac OS X 10_11_6) AppleWebKit/601.7.8 (KHTML, like Gecko) Version/9.1.3 Safari/601.7.8',\n",
    "                    'Mozilla/5.0 (Macintosh; Intel Mac OS X 10_10_5) AppleWebKit/600.8.9 (KHTML, like Gecko) Version/8.0.8 Safari/600.8.9',\n",
    "                    'Mozilla/5.0 (Macintosh; Intel Mac OS X 10_9_5) AppleWebKit/537.78.2 (KHTML, like Gecko) Version/7.0.6 Safari/537.78.2',\n",
    "                    'Mozilla/5.0 (Macintosh; Intel Mac OS X 10_8_5) AppleWebKit/536.30.1 (KHTML, like Gecko) Version/6.0.5 Safari/536.30.1',\n",
    "                    'Mozilla/5.0 (Macintosh; Intel Mac OS X 10_7_5) AppleWebKit/534.57.2 (KHTML, like Gecko) Version/5.1.7 Safari/534.57.2',\n",
    "                    'Mozilla/5.0 (Macintosh; Intel Mac OS X 10_6_8) AppleWebKit/533.21.1 (KHTML, like Gecko) Version/5.1.9 Safari/533.21.1'\n",
    "\n",
    "]"
   ]
  },
  {
   "cell_type": "code",
   "execution_count": 4,
   "id": "aca7c096",
   "metadata": {},
   "outputs": [],
   "source": [
    "# Function to make request with a specific user agent.\n",
    "\n",
    "def make_request_with_user_agent(user_agents_list,URL):\n",
    "    \n",
    "    user_agent = random.choice(user_agents_list)\n",
    "    HEADERS = {'User-Agent':user_agent, 'Acccept-Language':'en-US,en;q=0.5'}\n",
    "    \n",
    "    webpage = requests.get(URL,headers=HEADERS)\n",
    "    return webpage\n",
    "    "
   ]
  },
  {
   "cell_type": "code",
   "execution_count": 5,
   "id": "99b9ecad",
   "metadata": {},
   "outputs": [
    {
     "name": "stdout",
     "output_type": "stream",
     "text": [
      "Data Fetched Successfully !\n"
     ]
    }
   ],
   "source": [
    "success = False\n",
    "\n",
    "while not success:\n",
    "    \n",
    "    webpage_response = make_request_with_user_agent(user_agents_list,URL)\n",
    "    \n",
    "    if ( webpage_response.status_code == 200 ):\n",
    "        print(\"Data Fetched Successfully !\")\n",
    "        success = True\n",
    "        \n",
    "    else:\n",
    "        continue\n",
    "        \n",
    "soup = BeautifulSoup(webpage_response.content,'html.parser')"
   ]
  },
  {
   "cell_type": "code",
   "execution_count": 6,
   "id": "cde9ad3c",
   "metadata": {},
   "outputs": [],
   "source": [
    "# Extracting all the product links from webpage\n",
    "\n",
    "parent_tags = soup.find_all(\"h2\", attrs={'class':'a-size-mini a-spacing-none a-color-base s-line-clamp-2'})\n",
    "\n",
    "links_list = []\n",
    "for tags in parent_tags:\n",
    "    \n",
    "    sub_parent_tag = tags.find(\"a\", attrs={'class':'a-link-normal s-underline-text s-underline-link-text s-link-style a-text-normal'})\n",
    "    product_link = \"https://www.amazon.in\" + sub_parent_tag.get('href')\n",
    "    \n",
    "    links_list.append(product_link)"
   ]
  },
  {
   "cell_type": "code",
   "execution_count": 7,
   "id": "5c3dc90c",
   "metadata": {},
   "outputs": [],
   "source": [
    "amazon_scrapData = {'Product_Name':[],'Price':[],'Rating':[],'Availability':[],'Product_Link':[]}"
   ]
  },
  {
   "cell_type": "code",
   "execution_count": 8,
   "id": "76d1076f",
   "metadata": {},
   "outputs": [],
   "source": [
    "# Functions to scrap product details\n",
    "\n",
    "# Function to extract Product Name \n",
    "\n",
    "def fetch_productName(product_link_soup):\n",
    "    \n",
    "    try:\n",
    "        # Extracting upper tag of product title\n",
    "        product_name_uppertag =  product_link_soup.find(\"h1\", attrs={'class':'a-size-large a-spacing-none'})\n",
    "        \n",
    "        # Extracting anchor tag of product title\n",
    "        product_name_tag = product_name_uppertag.find(\"span\", attrs={'class':'a-size-large product-title-word-break'})\n",
    "        product_name = product_name_tag.text.strip()\n",
    "    \n",
    "    except AttributeError:\n",
    "        product_name = \"Not Available\"\n",
    "        \n",
    "    return product_name\n",
    "    \n",
    "# Function to extract Product Price \n",
    "\n",
    "def fetch_productPrice(product_link_soup):\n",
    "    \n",
    "    try:\n",
    "        # Extracting upper tag of product price\n",
    "        product_price_uppertag =  product_link_soup.find(\"span\", attrs={'class':'a-price aok-align-center reinventPricePriceToPayMargin priceToPay'})\n",
    "        \n",
    "        product_price_symbol = product_price_uppertag.find(\"span\", attrs={'class':'a-price-symbol'}).text.strip()\n",
    "        product_price_whole = product_price_uppertag.find(\"span\", attrs={'class':'a-price-whole'}).text.strip()\n",
    "        product_price = (product_price_symbol + product_price_whole)\n",
    "    \n",
    "    except AttributeError:\n",
    "        product_price = \"NIL\"\n",
    "        \n",
    "    return product_price\n",
    "    \n",
    "    \n",
    "# Function to extract Product Rating\n",
    "\n",
    "def fetch_productRating(product_link_soup):\n",
    "    \n",
    "    try:\n",
    "        product_rating_uppertag = product_link_soup.find(\"a\", attrs={'class':'a-popover-trigger a-declarative'})\n",
    "        product_rating_tag =product_rating_uppertag.find(\"span\", attrs={'class':'a-size-base a-color-base'})\n",
    "        product_rating = product_rating_tag.text.strip() + \"⭐️\"\n",
    "    \n",
    "    except AttributeError:\n",
    "        product_rating = \"NA\"\n",
    "        \n",
    "    return product_rating\n",
    "\n",
    "# Function to extract Product Availability\n",
    "\n",
    "def fetch_productAvailability(product_link_soup):\n",
    "    \n",
    "    try:\n",
    "        # Upper tag of product availability\n",
    "        product_availability_uppertag = product_link_soup.find(\"div\", attrs={'class':'a-section a-spacing-none a-spacing-top-micro }', 'id':'availability'})\n",
    "        \n",
    "        # Product Availability tag\n",
    "        product_availability_tag = product_availability_uppertag.find(\"span\")\n",
    "        \n",
    "        product_availability = product_availability_tag.text.strip()\n",
    "    \n",
    "    except AttributeError:\n",
    "        \n",
    "        try:\n",
    "            product_availability_uppertag = product_link_soup.find(\"div\", attrs={'class':'outOfStock'})\n",
    "            product_availability_tag = product_availability_uppertag.find(\"span\", attrs={'class':'a-color-price a-text-bold'})\n",
    "            product_availability = product_availability_tag.text.strip()\n",
    "            \n",
    "        except AttributeError:\n",
    "            product_availability = \"In Stock\"\n",
    "        \n",
    "    return product_availability\n",
    "    "
   ]
  },
  {
   "cell_type": "code",
   "execution_count": 9,
   "id": "9f9a53db",
   "metadata": {},
   "outputs": [],
   "source": [
    "# Fetching Product Details and Storing in a Dictionary\n",
    "\n",
    "for link in links_list:\n",
    "    \n",
    "    user_agent = random.choice(user_agents_list)\n",
    "    HEADERS = {'User-Agent':user_agent, 'Acccept-Language':'en-US,en;q=0.5'}\n",
    "    \n",
    "    new_webpage = requests.get(link, headers=HEADERS)\n",
    "    \n",
    "    \n",
    "    if ( new_webpage.status_code != 200 ):\n",
    "        \n",
    "        \n",
    "        error_message = (\"Error \" + str(new_webpage.status_code) + \" Access Denied\")\n",
    "        \n",
    "    \n",
    "        amazon_scrapData['Product_Name'].append(error_message)\n",
    "        amazon_scrapData['Price'].append(error_message)\n",
    "        amazon_scrapData['Rating'].append(error_message)\n",
    "        amazon_scrapData['Availability'].append(error_message)\n",
    "        amazon_scrapData['Product_Link'].append(link)\n",
    "        \n",
    "        continue\n",
    "        \n",
    "    product_link_soup = BeautifulSoup(new_webpage.content,'html.parser')\n",
    "    \n",
    "    product_name_uppertag =  product_link_soup.find(\"h1\", attrs={'class':'a-size-large a-spacing-none'})\n",
    "    if (product_name_uppertag is None):\n",
    "        while (product_name_uppertag==None):\n",
    "            \n",
    "            new_webpage = requests.get(link,headers=HEADERS)\n",
    "            product_link_soup = BeautifulSoup(new_webpage.content,'html.parser')\n",
    "            product_name_uppertag =  product_link_soup.find(\"h1\", attrs={'class':'a-size-large a-spacing-none'})\n",
    "    \n",
    "    amazon_scrapData['Product_Name'].append(fetch_productName(product_link_soup))\n",
    "    amazon_scrapData['Price'].append(fetch_productPrice(product_link_soup))\n",
    "    amazon_scrapData['Rating'].append(fetch_productRating(product_link_soup))\n",
    "    amazon_scrapData['Availability'].append(fetch_productAvailability(product_link_soup))\n",
    "    amazon_scrapData['Product_Link'].append(link)\n",
    "        "
   ]
  },
  {
   "cell_type": "code",
   "execution_count": 10,
   "id": "bb6a1df8",
   "metadata": {},
   "outputs": [],
   "source": [
    "# Generating a dataframe using pandas library\n",
    "\n",
    "amazon_df = pd.DataFrame.from_dict(amazon_scrapData)\n",
    "\n",
    "# Converting the scrap data to a CSV File\n",
    "\n",
    "amazon_df.to_csv(\"amazon_scrapData.csv\",index=False)"
   ]
  },
  {
   "cell_type": "code",
   "execution_count": 13,
   "id": "34ba96df",
   "metadata": {
    "scrolled": true
   },
   "outputs": [],
   "source": [
    "amazon_df"
   ]
  },
  {
   "cell_type": "code",
   "execution_count": null,
   "id": "b482a450",
   "metadata": {},
   "outputs": [],
   "source": []
  }
 ],
 "metadata": {
  "kernelspec": {
   "display_name": "Python 3 (ipykernel)",
   "language": "python",
   "name": "python3"
  },
  "language_info": {
   "codemirror_mode": {
    "name": "ipython",
    "version": 3
   },
   "file_extension": ".py",
   "mimetype": "text/x-python",
   "name": "python",
   "nbconvert_exporter": "python",
   "pygments_lexer": "ipython3",
   "version": "3.11.5"
  }
 },
 "nbformat": 4,
 "nbformat_minor": 5
}
